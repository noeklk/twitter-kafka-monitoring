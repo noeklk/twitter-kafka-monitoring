{
 "cells": [
  {
   "cell_type": "code",
   "execution_count": 100,
   "id": "4fa9379d",
   "metadata": {},
   "outputs": [],
   "source": [
    "from pyspark.sql import SparkSession\n",
    "import sys\n",
    "spark = SparkSession.builder.getOrCreate()\n",
    "from pymongo import MongoClient\n",
    "import hdfs\n",
    "from pywebhdfs.webhdfs import PyWebHdfsClient\n",
    "from pprint import pprint\n",
    "import json\n",
    "from datetime import datetime as dt\n",
    "import datetime\n",
    "import pandas as pd\n",
    "import pytz\n",
    "\n",
    "conn = MongoClient('mongo', 27017)\n",
    "db = conn.tweets\n",
    "collection = db.tweet"
   ]
  },
  {
   "cell_type": "code",
   "execution_count": 101,
   "id": "69f89565",
   "metadata": {},
   "outputs": [
    {
     "name": "stdout",
     "output_type": "stream",
     "text": [
      "[['data-0.json', 'data-1.json', 'data-10.json', 'data-100.json',\n",
      "  'data-101.json', 'data-102.json', 'data-103.json', 'data-104.json',\n",
      "  'data-105.json', 'data-106.json', 'data-107.json', 'data-108.json',\n",
      "  'data-109.json', 'data-11.json', 'data-110.json', 'data-111.json',\n",
      "  'data-112.json', 'data-113.json', 'data-114.json', 'data-115.json',\n",
      "  'data-116.json', 'data-117.json', 'data-118.json', 'data-119.json',\n",
      "  'data-12.json', 'data-13.json', 'data-14.json', 'data-15.json',\n",
      "  'data-16.json', 'data-17.json', 'data-18.json', 'data-19.json', 'data-2.json',\n",
      "  'data-20.json', 'data-21.json', 'data-22.json', 'data-23.json',\n",
      "  'data-24.json', 'data-25.json', 'data-26.json', 'data-27.json',\n",
      "  'data-28.json', 'data-29.json', 'data-3.json', 'data-30.json', 'data-31.json',\n",
      "  'data-32.json', 'data-33.json', 'data-34.json', 'data-35.json',\n",
      "  'data-36.json', 'data-37.json', 'data-38.json', 'data-39.json', 'data-4.json',\n",
      "  'data-40.json', 'data-41.json', 'data-42.json', 'data-43.json',\n",
      "  'data-44.json', 'data-45.json', 'data-46.json', 'data-47.json',\n",
      "  'data-48.json', 'data-49.json', 'data-5.json', 'data-50.json', 'data-51.json',\n",
      "  'data-52.json', 'data-53.json', 'data-54.json', 'data-55.json',\n",
      "  'data-56.json', 'data-57.json', 'data-58.json', 'data-59.json', 'data-6.json',\n",
      "  'data-60.json', 'data-61.json', 'data-62.json', 'data-63.json',\n",
      "  'data-64.json', 'data-65.json', 'data-66.json', 'data-67.json',\n",
      "  'data-68.json', 'data-69.json', 'data-7.json', 'data-70.json', 'data-71.json',\n",
      "  'data-72.json', 'data-73.json', 'data-74.json', 'data-75.json',\n",
      "  'data-76.json', 'data-77.json', 'data-78.json', 'data-79.json', 'data-8.json',\n",
      "  'data-80.json', 'data-81.json', 'data-82.json', 'data-83.json',\n",
      "  'data-84.json', 'data-85.json', 'data-86.json', 'data-87.json',\n",
      "  'data-88.json', 'data-89.json', 'data-9.json', 'data-90.json', 'data-91.json',\n",
      "  'data-92.json', 'data-93.json', 'data-94.json', 'data-95.json',\n",
      "  'data-96.json', 'data-97.json', 'data-98.json', 'data-99.json'],\n",
      " 'nombres de fichiers: 120', 'nombre de tweets: 6000']\n"
     ]
    }
   ],
   "source": [
    "hdfs = PyWebHdfsClient(host='hadoop-master',port='9870', user_name='kafka-data')  # your Namenode IP & username here\n",
    "my_dir = '/user/kafka-data'\n",
    "data_files = [i[\"pathSuffix\"] for i in hdfs.list_dir(my_dir)[\"FileStatuses\"][\"FileStatus\"]]\n",
    "pprint([data_files, f'nombres de fichiers: {len(data_files)}', f'nombre de tweets: {len(data_files)*50}'], compact=True)"
   ]
  },
  {
   "cell_type": "code",
   "execution_count": null,
   "id": "a538d1a7",
   "metadata": {},
   "outputs": [],
   "source": [
    "collection.drop()\n",
    "\n",
    "tweets = []\n",
    "\n",
    "for i in data_files:\n",
    "    df = spark.read.json(f'hdfs://hadoop-master:9000/user/kafka-data/{i}')\n",
    "    json_data = df.toJSON().collect()\n",
    "    for i in json_data:\n",
    "        data = json.loads(i)\n",
    "        hashtags = [i for i in data[\"hashtags\"]]\n",
    "        for h in hashtags:\n",
    "            hours = 2\n",
    "            hours_added = datetime.timedelta(hours = hours)\n",
    "            new_datetime = dt.fromtimestamp(int(data[\"timestamp\"])/1000)\n",
    "            new_datetime = new_datetime + hours_added\n",
    "\n",
    "            uniqued_hashtag = {\"hashtag\": h, \"datetime\": new_datetime}\n",
    "            tweets.append(uniqued_hashtag)\n",
    "\n",
    "collection.insert_many(tweets)\n",
    "        \n",
    "cursor = collection.find()\n",
    "for record in cursor:\n",
    "    print(record)"
   ]
  }
 ],
 "metadata": {
  "kernelspec": {
   "display_name": "Python 3",
   "language": "python",
   "name": "python3"
  },
  "language_info": {
   "codemirror_mode": {
    "name": "ipython",
    "version": 3
   },
   "file_extension": ".py",
   "mimetype": "text/x-python",
   "name": "python",
   "nbconvert_exporter": "python",
   "pygments_lexer": "ipython3",
   "version": "3.8.8"
  }
 },
 "nbformat": 4,
 "nbformat_minor": 5
}
