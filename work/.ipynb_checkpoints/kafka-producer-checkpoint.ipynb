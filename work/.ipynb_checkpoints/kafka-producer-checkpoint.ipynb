{
 "cells": [
  {
   "cell_type": "markdown",
   "id": "54023333",
   "metadata": {},
   "source": [
    "# KAFKA PRODUCER"
   ]
  },
  {
   "cell_type": "code",
   "execution_count": null,
   "id": "41bcdc0b",
   "metadata": {},
   "outputs": [],
   "source": [
    "from tweepy.streaming import StreamListener\n",
    "from tweepy import OAuthHandler\n",
    "import tweepy\n",
    "import os\n",
    "import json\n",
    "from kafka import KafkaProducer\n",
    "\n",
    "ACCESS_TOKEN=\"1052919765126316033-eATAf2skyDxIomK4GxYaZ7zj5Th6BX\"\n",
    "ACCESS_TOKEN_SECRET=\"fMFNeiSTpMu4kJuZx0vXYgKeizRGv8CZZQaZ2LbY576lH\"\n",
    "CONSUMER_KEY=\"0wjVKNcrlxQIlf0UKVNwpwShq\"\n",
    "CONSUMER_SECRET=\"mUoz9LP810L2bkJzfpM1e8TgK2wLmip3kc7nORjvAbwwmtKxid\"\n",
    "\n",
    "SEARCH_KEYWORD = str(input(\"Please enter a keyword to filter\\n\"))\n",
    "\n",
    "producer = KafkaProducer(bootstrap_servers=['kafka:9092'])\n",
    "\n",
    "class StdOutListener(StreamListener):\n",
    "    def __init__(self):\n",
    "        self.count=0\n",
    "\n",
    "    def on_data(self, data):\n",
    "        producer.send(\"tweets\", data.encode('utf-8'))\n",
    "        self.count+=1\n",
    "        print(self.count)\n",
    "        return True\n",
    "    def on_error(self, status):\n",
    "        print (status)\n",
    "\n",
    "myStreamListener = StdOutListener()\n",
    "auth = OAuthHandler(CONSUMER_KEY, CONSUMER_SECRET)\n",
    "auth.set_access_token(ACCESS_TOKEN, ACCESS_TOKEN_SECRET)\n",
    "myStream = tweepy.Stream(auth = auth, listener=myStreamListener)\n",
    "myStream.filter(track=[SEARCH_KEYWORD])\n",
    "\n",
    "print(f\"Starting tweet streams\")"
   ]
  }
 ],
 "metadata": {
  "kernelspec": {
   "display_name": "Python 3",
   "language": "python",
   "name": "python3"
  },
  "language_info": {
   "codemirror_mode": {
    "name": "ipython",
    "version": 3
   },
   "file_extension": ".py",
   "mimetype": "text/x-python",
   "name": "python",
   "nbconvert_exporter": "python",
   "pygments_lexer": "ipython3",
   "version": "3.8.8"
  }
 },
 "nbformat": 4,
 "nbformat_minor": 5
}
