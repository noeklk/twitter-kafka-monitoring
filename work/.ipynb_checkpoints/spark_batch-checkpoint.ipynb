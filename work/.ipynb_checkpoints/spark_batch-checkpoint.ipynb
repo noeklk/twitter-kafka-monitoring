{
 "cells": [
  {
   "cell_type": "code",
   "execution_count": 1,
   "id": "02d3cbe2",
   "metadata": {},
   "outputs": [],
   "source": [
    "from pyspark.sql import SparkSession\n",
    "import sys\n",
    "spark = SparkSession.builder.getOrCreate()"
   ]
  },
  {
   "cell_type": "code",
   "execution_count": 38,
   "id": "d0cb7d87",
   "metadata": {},
   "outputs": [],
   "source": [
    "df = spark.read.option(\"multiline\", True).json('hdfs://hadoop-master:9000/user/kafka-data/data.json')"
   ]
  },
  {
   "cell_type": "code",
   "execution_count": 34,
   "id": "1cb4cd46",
   "metadata": {},
   "outputs": [],
   "source": [
    "df = spark.read.json('hdfs://hadoop-master:9000/user/kafka-data/data.txt')"
   ]
  },
  {
   "cell_type": "code",
   "execution_count": null,
   "id": "c843d7c0",
   "metadata": {},
   "outputs": [],
   "source": [
    "df = spark.sparkContext.textFile('hdfs://hadoop-master:9000/user/kafka-data/data.txt')"
   ]
  },
  {
   "cell_type": "code",
   "execution_count": 13,
   "id": "0179ad1a",
   "metadata": {},
   "outputs": [],
   "source": [
    "df = spark.sparkContext.wholeTextFiles('hdfs://hadoop-master:9000/user/kafka-data/data.txt')"
   ]
  },
  {
   "cell_type": "code",
   "execution_count": 32,
   "id": "f7cff916",
   "metadata": {},
   "outputs": [],
   "source": [
    "df = spark.read.text('hdfs://hadoop-master:9000/user/kafka-data/data.txt')"
   ]
  },
  {
   "cell_type": "code",
   "execution_count": 43,
   "id": "c159f8e0",
   "metadata": {},
   "outputs": [
    {
     "data": {
      "text/plain": [
       "Column<'_corrupt_record'>"
      ]
     },
     "execution_count": 43,
     "metadata": {},
     "output_type": "execute_result"
    }
   ],
   "source": [
    "df[0]"
   ]
  },
  {
   "cell_type": "code",
   "execution_count": null,
   "id": "2f1a7b76",
   "metadata": {},
   "outputs": [],
   "source": [
    "('hdfs://hadoop-master:9000/user/kafka-data/data.txt')"
   ]
  },
  {
   "cell_type": "code",
   "execution_count": 15,
   "id": "e9f95435",
   "metadata": {},
   "outputs": [
    {
     "ename": "TypeError",
     "evalue": "'RDD' object is not iterable",
     "output_type": "error",
     "traceback": [
      "\u001b[0;31m---------------------------------------------------------------------------\u001b[0m",
      "\u001b[0;31mTypeError\u001b[0m                                 Traceback (most recent call last)",
      "\u001b[0;32m<ipython-input-15-1806b5e05ffc>\u001b[0m in \u001b[0;36m<module>\u001b[0;34m\u001b[0m\n\u001b[0;32m----> 1\u001b[0;31m \u001b[0;32mfor\u001b[0m \u001b[0mi\u001b[0m \u001b[0;32min\u001b[0m \u001b[0mdf\u001b[0m\u001b[0;34m:\u001b[0m\u001b[0;34m\u001b[0m\u001b[0;34m\u001b[0m\u001b[0m\n\u001b[0m\u001b[1;32m      2\u001b[0m     \u001b[0mprint\u001b[0m\u001b[0;34m(\u001b[0m\u001b[0mi\u001b[0m\u001b[0;34m)\u001b[0m\u001b[0;34m\u001b[0m\u001b[0;34m\u001b[0m\u001b[0m\n",
      "\u001b[0;31mTypeError\u001b[0m: 'RDD' object is not iterable"
     ]
    }
   ],
   "source": [
    "for i in df:\n",
    "    print(i)"
   ]
  }
 ],
 "metadata": {
  "kernelspec": {
   "display_name": "Python 3",
   "language": "python",
   "name": "python3"
  },
  "language_info": {
   "codemirror_mode": {
    "name": "ipython",
    "version": 3
   },
   "file_extension": ".py",
   "mimetype": "text/x-python",
   "name": "python",
   "nbconvert_exporter": "python",
   "pygments_lexer": "ipython3",
   "version": "3.8.8"
  }
 },
 "nbformat": 4,
 "nbformat_minor": 5
}
