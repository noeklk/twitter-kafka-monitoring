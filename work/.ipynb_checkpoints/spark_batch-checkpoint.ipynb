{
 "cells": [
  {
   "cell_type": "code",
   "execution_count": null,
   "id": "4fa9379d",
   "metadata": {},
   "outputs": [],
   "source": [
    "from pyspark.sql import SparkSession\n",
    "import sys\n",
    "spark = SparkSession.builder.getOrCreate()\n",
    "from pymongo import MongoClient"
   ]
  },
  {
   "cell_type": "code",
   "execution_count": null,
   "id": "93d9feb3",
   "metadata": {},
   "outputs": [],
   "source": [
    "df = spark.read.json('hdfs://hadoop-master:9000/user/kafka-data/data.json')"
   ]
  },
  {
   "cell_type": "code",
   "execution_count": null,
   "id": "87e017e7",
   "metadata": {
    "scrolled": true
   },
   "outputs": [],
   "source": [
    "type(df)"
   ]
  },
  {
   "cell_type": "code",
   "execution_count": null,
   "id": "417d30a5",
   "metadata": {},
   "outputs": [],
   "source": [
    "df.printSchema()"
   ]
  },
  {
   "cell_type": "code",
   "execution_count": null,
   "id": "1e74da06",
   "metadata": {
    "scrolled": false
   },
   "outputs": [],
   "source": [
    "df.show(vertical=True)"
   ]
  }
 ],
 "metadata": {
  "kernelspec": {
   "display_name": "Python 3",
   "language": "python",
   "name": "python3"
  },
  "language_info": {
   "codemirror_mode": {
    "name": "ipython",
    "version": 3
   },
   "file_extension": ".py",
   "mimetype": "text/x-python",
   "name": "python",
   "nbconvert_exporter": "python",
   "pygments_lexer": "ipython3",
   "version": "3.8.8"
  }
 },
 "nbformat": 4,
 "nbformat_minor": 5
}
