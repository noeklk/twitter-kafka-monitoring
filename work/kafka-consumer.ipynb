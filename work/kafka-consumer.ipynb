{
 "cells": [
  {
   "cell_type": "markdown",
   "id": "8bd24955",
   "metadata": {},
   "source": [
    "# KAFKA CONSUMER"
   ]
  },
  {
   "cell_type": "code",
   "execution_count": null,
   "id": "59996f61",
   "metadata": {},
   "outputs": [],
   "source": [
    "from hdfs import InsecureClient\n",
    "import os\n",
    "import json\n",
    "from kafka import KafkaConsumer\n",
    "\n",
    "consumer = KafkaConsumer('tweets', bootstrap_servers=['kafka:9092'])\n",
    "client = InsecureClient('http://hadoop-master:9870/', user='kafka-data')\n",
    "\n",
    "TWEET_LOOP_LIMIT = 250\n",
    "\n",
    "def convert_to_json(b):\n",
    "    df_decode = b.decode('utf8')\n",
    "    df_json = json.loads(df_decode)\n",
    "    return df_json\n",
    "\n",
    "inp = []\n",
    "file_count = 0\n",
    "\n",
    "for message in consumer:\n",
    "    inp.append(message.value)\n",
    "    \n",
    "    print(len(inp))\n",
    "    \n",
    "    if len(inp) >= TWEET_LOOP_LIMIT:\n",
    "        filename = f'data-{file_count}.json'\n",
    "        file_count += 1\n",
    "        print(f\"Reached the loop limit of {TWEET_LOOP_LIMIT} tweets, overwriting to hdfs to filename: {filename}\")\n",
    "        out = map(convert_to_json, inp)\n",
    "        inp = []\n",
    "        client.write(filename, data=json.dumps(list(out)), encoding='utf-8', overwrite=True)"
   ]
  }
 ],
 "metadata": {
  "kernelspec": {
   "display_name": "Python 3",
   "language": "python",
   "name": "python3"
  },
  "language_info": {
   "codemirror_mode": {
    "name": "ipython",
    "version": 3
   },
   "file_extension": ".py",
   "mimetype": "text/x-python",
   "name": "python",
   "nbconvert_exporter": "python",
   "pygments_lexer": "ipython3",
   "version": "3.8.8"
  }
 },
 "nbformat": 4,
 "nbformat_minor": 5
}
